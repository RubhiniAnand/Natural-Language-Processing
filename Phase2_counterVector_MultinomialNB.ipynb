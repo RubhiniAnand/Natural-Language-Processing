{
 "cells": [
  {
   "cell_type": "code",
   "execution_count": 1,
   "id": "a50a3d33-e6ee-4b83-a88e-9326e124d1cc",
   "metadata": {},
   "outputs": [],
   "source": [
    "import pandas as pd\n",
    "from sklearn.model_selection import train_test_split\n",
    "from sklearn.feature_extraction.text import CountVectorizer,TfidfVectorizer,HashingVectorizer"
   ]
  },
  {
   "cell_type": "code",
   "execution_count": 2,
   "id": "dc9203a8-cbe0-4102-ab75-0e33fcbdea0a",
   "metadata": {},
   "outputs": [],
   "source": [
    "df=pd.read_csv(\"news.csv\",index_col=None)\n",
    "dataset=df.drop(\"Unnamed: 0\",axis=1)\n",
    "x=dataset[\"text\"]\n",
    "y=dataset[\"label\"]\n",
    "x_train,x_test,y_train,y_test=train_test_split(x,y,test_size=0.33,random_state=53)"
   ]
  },
  {
   "cell_type": "code",
   "execution_count": 3,
   "id": "5195df72-cdea-4a43-aeba-f7dfc0810c74",
   "metadata": {},
   "outputs": [],
   "source": [
    "import pickle"
   ]
  },
  {
   "cell_type": "code",
   "execution_count": 4,
   "id": "aa063197-8f7e-480a-8c57-c13c8a6530ae",
   "metadata": {},
   "outputs": [],
   "source": [
    "filename=\"finalized_model_MultinomialNB.sav\""
   ]
  },
  {
   "cell_type": "code",
   "execution_count": 5,
   "id": "b50822de-e282-47ea-bec9-ea99de5a7ba4",
   "metadata": {},
   "outputs": [],
   "source": [
    "loaded_model=pickle.load(open(\"finalized_model_MultinomialNB.sav\",'rb'))"
   ]
  },
  {
   "cell_type": "code",
   "execution_count": 6,
   "id": "e19a7a87-ffea-4c4f-a35f-1573a51b5134",
   "metadata": {},
   "outputs": [],
   "source": [
    "count_vector = CountVectorizer(stop_words='english')\n",
    "count_train = count_vector.fit_transform(x_train)"
   ]
  },
  {
   "cell_type": "code",
   "execution_count": 8,
   "id": "6be187da-a854-4e88-8c48-d61be5eff6c0",
   "metadata": {},
   "outputs": [
    {
     "data": {
      "text/plain": [
       "array(['FAKE'], dtype='<U4')"
      ]
     },
     "execution_count": 8,
     "metadata": {},
     "output_type": "execute_result"
    }
   ],
   "source": [
    "loaded_model.predict(count_train[[0]])"
   ]
  },
  {
   "cell_type": "code",
   "execution_count": null,
   "id": "14152d61-d122-4ce7-b786-1250d86e7ac6",
   "metadata": {},
   "outputs": [],
   "source": []
  }
 ],
 "metadata": {
  "kernelspec": {
   "display_name": "Python 3 (ipykernel)",
   "language": "python",
   "name": "python3"
  },
  "language_info": {
   "codemirror_mode": {
    "name": "ipython",
    "version": 3
   },
   "file_extension": ".py",
   "mimetype": "text/x-python",
   "name": "python",
   "nbconvert_exporter": "python",
   "pygments_lexer": "ipython3",
   "version": "3.12.0"
  }
 },
 "nbformat": 4,
 "nbformat_minor": 5
}
