{
 "cells": [
  {
   "cell_type": "code",
   "execution_count": 1,
   "id": "d0ed14e3-38ad-4f34-ab39-26e0700e5a8c",
   "metadata": {},
   "outputs": [],
   "source": [
    "#IMPORT ALL THE NEEDED LIBRARIES\n",
    "import pandas as pd\n",
    "from sklearn.model_selection import train_test_split\n",
    "from sklearn.feature_extraction.text import CountVectorizer,TfidfVectorizer,HashingVectorizer"
   ]
  },
  {
   "cell_type": "code",
   "execution_count": 2,
   "id": "83603d48-4fc8-464a-bc08-dc6a6a2ae1ed",
   "metadata": {},
   "outputs": [],
   "source": [
    "#LOAD AND SPLIT THE DATASET INTO TRAIN AND TEST SET\n",
    "df=pd.read_csv(\"news.csv\",index_col=None)\n",
    "dataset=df.drop(\"Unnamed: 0\",axis=1)\n",
    "x=dataset[\"text\"]\n",
    "y=dataset[\"label\"]\n",
    "x_train,x_test,y_train,y_test=train_test_split(x,y,test_size=0.33,random_state=53)"
   ]
  },
  {
   "cell_type": "code",
   "execution_count": 3,
   "id": "7122d0ab-5916-49e9-9986-48db67c59010",
   "metadata": {},
   "outputs": [],
   "source": [
    "#LOAD THE SAVED MODEL\n",
    "import pickle\n",
    "filename=\"finalized_model_Tfidf_MultinomialNB.sav\"\n",
    "loaded_model=pickle.load(open(\"finalized_model_Tfidf_MultinomialNB.sav\",'rb'))"
   ]
  },
  {
   "cell_type": "code",
   "execution_count": 4,
   "id": "3fc6f458-c55f-48c6-9cb8-655d864e58f5",
   "metadata": {},
   "outputs": [],
   "source": [
    "#PREPROCESS THE INPUT IN THE DEPLOYMENT PHASE\n",
    "Tfidf_vector=TfidfVectorizer(stop_words='english')\n",
    "Tfidf_train=Tfidf_vector.fit_transform(x_train)"
   ]
  },
  {
   "cell_type": "code",
   "execution_count": 6,
   "id": "8f7eb001-43e4-4fcb-8825-fc7227acca90",
   "metadata": {},
   "outputs": [],
   "source": [
    "#PREDICT THE INPUT DATA\n",
    "result=loaded_model.predict(Tfidf_train[[0]])"
   ]
  },
  {
   "cell_type": "code",
   "execution_count": 7,
   "id": "3aafc720-6c4b-4a69-b4ab-737035190cdf",
   "metadata": {},
   "outputs": [
    {
     "name": "stdout",
     "output_type": "stream",
     "text": [
      "['FAKE']\n"
     ]
    }
   ],
   "source": [
    "print(result)"
   ]
  },
  {
   "cell_type": "code",
   "execution_count": null,
   "id": "cee4883c-5a96-4dcf-b9ba-83cd95b7582e",
   "metadata": {},
   "outputs": [],
   "source": []
  }
 ],
 "metadata": {
  "kernelspec": {
   "display_name": "Python 3 (ipykernel)",
   "language": "python",
   "name": "python3"
  },
  "language_info": {
   "codemirror_mode": {
    "name": "ipython",
    "version": 3
   },
   "file_extension": ".py",
   "mimetype": "text/x-python",
   "name": "python",
   "nbconvert_exporter": "python",
   "pygments_lexer": "ipython3",
   "version": "3.12.0"
  }
 },
 "nbformat": 4,
 "nbformat_minor": 5
}
